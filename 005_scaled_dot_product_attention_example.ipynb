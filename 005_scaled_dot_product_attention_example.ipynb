{
 "cells": [
  {
   "cell_type": "code",
   "execution_count": 1,
   "id": "2461274b",
   "metadata": {},
   "outputs": [
    {
     "name": "stdout",
     "output_type": "stream",
     "text": [
      "Attention weights: [[0.66976155 0.33023845]]\n",
      "Attention output: [[6.69761549 3.30238451]]\n"
     ]
    }
   ],
   "source": [
    "import numpy as np\n",
    "\n",
    "# 임의의 Q, K, V 벡터 설정\n",
    "Q = np.array([[1.0, 0.0]])\n",
    "K = np.array([[1.0, 0.0],\n",
    "              [0.0, 1.0]])\n",
    "V = np.array([[10, 0],\n",
    "              [0, 10]])\n",
    "\n",
    "# Scaled dot product\n",
    "scale = np.sqrt(Q.shape[-1])  # sqrt(d_k)\n",
    "scores = (Q @ K.T) / scale\n",
    "\n",
    "# softmax 적용\n",
    "exp_scores = np.exp(scores)\n",
    "weights = exp_scores / np.sum(exp_scores, axis=-1, keepdims=True)\n",
    "\n",
    "# attention 결과 계산\n",
    "attention = weights @ V\n",
    "\n",
    "print(\"Attention weights:\", weights)\n",
    "print(\"Attention output:\", attention)\n"
   ]
  }
 ],
 "metadata": {
  "kernelspec": {
   "display_name": "base",
   "language": "python",
   "name": "python3"
  },
  "language_info": {
   "codemirror_mode": {
    "name": "ipython",
    "version": 3
   },
   "file_extension": ".py",
   "mimetype": "text/x-python",
   "name": "python",
   "nbconvert_exporter": "python",
   "pygments_lexer": "ipython3",
   "version": "3.12.3"
  }
 },
 "nbformat": 4,
 "nbformat_minor": 5
}
