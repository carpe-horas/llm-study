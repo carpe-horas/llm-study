{
 "cells": [
  {
   "cell_type": "code",
   "execution_count": 3,
   "id": "1072567d",
   "metadata": {},
   "outputs": [
    {
     "name": "stdout",
     "output_type": "stream",
     "text": [
      "Dot product 유사도: [[1.0000001  0.6683733  0.54748034]]\n"
     ]
    }
   ],
   "source": [
    "from sentence_transformers import SentenceTransformer\n",
    "import numpy as np\n",
    "\n",
    "# 문장 임베딩\n",
    "model = SentenceTransformer('all-MiniLM-L6-v2')\n",
    "sentences = [\n",
    "    \"나는 매일 아침 창문을 열어 환기를 한다.\",\n",
    "    \"아침마다 거실에 햇빛이 들어오도록 커튼을 걷는다.\",\n",
    "    \"저녁엔 유튜브를 보면서 쉬는 편이다.\"\n",
    "]\n",
    "embeddings = model.encode(sentences)\n",
    "\n",
    "# 첫 번째 문장을 Query로, 나머지를 Key로 설정\n",
    "query = embeddings[0].reshape(1, -1)\n",
    "keys = np.vstack(embeddings)\n",
    "\n",
    "# dot product 기반 유사도 계산\n",
    "scores = query @ keys.T\n",
    "print(\"Dot product 유사도:\", scores)\n"
   ]
  },
  {
   "cell_type": "code",
   "execution_count": 4,
   "id": "021ba2c1",
   "metadata": {},
   "outputs": [
    {
     "name": "stdout",
     "output_type": "stream",
     "text": [
      "=== 문장별 임베딩 벡터 (앞 5개 값만 출력) ===\n",
      "\n",
      "[문장 1] 나는 매일 아침 창문을 열어 환기를 한다.\n",
      "벡터 앞 5개: [-0.02521603  0.07694715  0.05943875 -0.03766325 -0.01934122] \n",
      "\n",
      "[문장 2] 눈 뜨자마자 창문부터 열어 바람을 쐰다.\n",
      "벡터 앞 5개: [ 0.00293377  0.05486312  0.00895771 -0.04840666  0.01342242] \n",
      "\n",
      "[문장 3] 저녁엔 유튜브를 보면서 쉬는 편이다.\n",
      "벡터 앞 5개: [-0.01764801  0.07804921 -0.00203974 -0.09296696 -0.07419367] \n",
      "\n",
      "\n",
      "=== Query 변경하면서 dot product 유사도 계산 ===\n",
      "\n",
      "[Query 문장 1] \"나는 매일 아침 창문을 열어 환기를 한다.\"\n",
      "  → Key 문장 1 (나는 매일 아침 창문을 열어 환기를 한다.): dot product = 1.0000\n",
      "  → Key 문장 2 (눈 뜨자마자 창문부터 열어 바람을 쐰다.): dot product = 0.7031\n",
      "  → Key 문장 3 (저녁엔 유튜브를 보면서 쉬는 편이다.): dot product = 0.5475\n",
      "\n",
      "[Query 문장 2] \"눈 뜨자마자 창문부터 열어 바람을 쐰다.\"\n",
      "  → Key 문장 1 (나는 매일 아침 창문을 열어 환기를 한다.): dot product = 0.7031\n",
      "  → Key 문장 2 (눈 뜨자마자 창문부터 열어 바람을 쐰다.): dot product = 1.0000\n",
      "  → Key 문장 3 (저녁엔 유튜브를 보면서 쉬는 편이다.): dot product = 0.7706\n",
      "\n",
      "[Query 문장 3] \"저녁엔 유튜브를 보면서 쉬는 편이다.\"\n",
      "  → Key 문장 1 (나는 매일 아침 창문을 열어 환기를 한다.): dot product = 0.5475\n",
      "  → Key 문장 2 (눈 뜨자마자 창문부터 열어 바람을 쐰다.): dot product = 0.7706\n",
      "  → Key 문장 3 (저녁엔 유튜브를 보면서 쉬는 편이다.): dot product = 1.0000\n",
      "\n"
     ]
    }
   ],
   "source": [
    "from sentence_transformers import SentenceTransformer\n",
    "import numpy as np\n",
    "\n",
    "# 문장 리스트\n",
    "sentences = [\n",
    "    \"나는 매일 아침 창문을 열어 환기를 한다.\",\n",
    "    \"눈 뜨자마자 창문부터 열어 바람을 쐰다.\",\n",
    "    \"저녁엔 유튜브를 보면서 쉬는 편이다.\"\n",
    "]\n",
    "\n",
    "# 모델 로딩 및 임베딩 계산\n",
    "model = SentenceTransformer('all-MiniLM-L6-v2')\n",
    "embeddings = model.encode(sentences)\n",
    "\n",
    "# 각 문장의 벡터 출력\n",
    "print(\"=== 문장별 임베딩 벡터 (앞 5개 값만 출력) ===\\n\")\n",
    "for i, vec in enumerate(embeddings):\n",
    "    print(f\"[문장 {i+1}] {sentences[i]}\")\n",
    "    print(\"벡터 앞 5개:\", vec[:5], \"\\n\")\n",
    "\n",
    "# 각 문장을 Query로 사용하여 dot product 유사도 계산\n",
    "print(\"\\n=== Query 변경하면서 dot product 유사도 계산 ===\\n\")\n",
    "for i, query in enumerate(embeddings):\n",
    "    query = query.reshape(1, -1)\n",
    "    scores = query @ embeddings.T\n",
    "    print(f\"[Query 문장 {i+1}] \\\"{sentences[i]}\\\"\")\n",
    "    for j, score in enumerate(scores.flatten()):\n",
    "        print(f\"  → Key 문장 {j+1} ({sentences[j]}): dot product = {score:.4f}\")\n",
    "    print()\n"
   ]
  }
 ],
 "metadata": {
  "kernelspec": {
   "display_name": "base",
   "language": "python",
   "name": "python3"
  },
  "language_info": {
   "codemirror_mode": {
    "name": "ipython",
    "version": 3
   },
   "file_extension": ".py",
   "mimetype": "text/x-python",
   "name": "python",
   "nbconvert_exporter": "python",
   "pygments_lexer": "ipython3",
   "version": "3.12.3"
  }
 },
 "nbformat": 4,
 "nbformat_minor": 5
}
